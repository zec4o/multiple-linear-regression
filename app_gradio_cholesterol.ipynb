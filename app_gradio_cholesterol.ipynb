{
 "cells": [
  {
   "cell_type": "code",
   "execution_count": 2,
   "metadata": {},
   "outputs": [],
   "source": [
    "import gradio as gr\n",
    "import joblib\n",
    "import pandas as pd"
   ]
  },
  {
   "cell_type": "code",
   "execution_count": 17,
   "metadata": {},
   "outputs": [],
   "source": [
    "model = joblib.load('./cholesterol_model.pkl')"
   ]
  },
  {
   "cell_type": "code",
   "execution_count": 31,
   "metadata": {},
   "outputs": [],
   "source": [
    "def predict(blood_group, smoker, activity_level, age, weight, height):\n",
    "  _smoker = \"Yes\" if smoker else \"No\"\n",
    "  individual_prediction = {\n",
    "    'blood_group': blood_group,\n",
    "    'smoker': _smoker,\n",
    "    'activity_level': activity_level,\n",
    "    'age': age,\n",
    "    'weight': weight,\n",
    "    'height': height\n",
    "  }\n",
    "  predict_df = pd.DataFrame(individual_prediction, index=[1])\n",
    "  cholesterol = model.predict(predict_df)\n",
    "  return cholesterol.reshape(-1)"
   ]
  },
  {
   "cell_type": "code",
   "execution_count": 32,
   "metadata": {},
   "outputs": [],
   "source": [
    "demo = gr.Interface(\n",
    "  fn=predict,\n",
    "  inputs=[\n",
    "    gr.Radio(['A', 'B', 'AB', 'O'], label=\"Blood Group\"),\n",
    "    gr.Checkbox(label=\"Smoker\"),\n",
    "    gr.Radio(['Low', 'Moderate', 'High'], label=\"Activity Level\"),\n",
    "    gr.Slider(20, 80, step=1, label=\"Age\"),\n",
    "    gr.Slider(40, 160, step=0.1, label=\"Weight\"),\n",
    "    gr.Slider(150, 200, step=1, label=\"Height\")\n",
    "  ],\n",
    "  outputs=['number']\n",
    ")"
   ]
  },
  {
   "cell_type": "code",
   "execution_count": 34,
   "metadata": {},
   "outputs": [
    {
     "name": "stdout",
     "output_type": "stream",
     "text": [
      "Rerunning server... use `close()` to stop if you need to change `launch()` parameters.\n",
      "----\n",
      "Running on public URL: https://5c55848c1ff5807db5.gradio.live\n",
      "\n",
      "This share link expires in 72 hours. For free permanent hosting and GPU upgrades, run `gradio deploy` from Terminal to deploy to Spaces (https://huggingface.co/spaces)\n"
     ]
    },
    {
     "data": {
      "text/html": [
       "<div><iframe src=\"https://5c55848c1ff5807db5.gradio.live\" width=\"100%\" height=\"500\" allow=\"autoplay; camera; microphone; clipboard-read; clipboard-write;\" frameborder=\"0\" allowfullscreen></iframe></div>"
      ],
      "text/plain": [
       "<IPython.core.display.HTML object>"
      ]
     },
     "metadata": {},
     "output_type": "display_data"
    },
    {
     "data": {
      "text/plain": []
     },
     "execution_count": 34,
     "metadata": {},
     "output_type": "execute_result"
    }
   ],
   "source": [
    "demo.launch(share=True)"
   ]
  }
 ],
 "metadata": {
  "kernelspec": {
   "display_name": "multiple-linear-regression-tCgHct6w",
   "language": "python",
   "name": "python3"
  },
  "language_info": {
   "codemirror_mode": {
    "name": "ipython",
    "version": 3
   },
   "file_extension": ".py",
   "mimetype": "text/x-python",
   "name": "python",
   "nbconvert_exporter": "python",
   "pygments_lexer": "ipython3",
   "version": "3.12.1"
  }
 },
 "nbformat": 4,
 "nbformat_minor": 2
}
